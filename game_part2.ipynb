{
 "cells": [
  {
   "cell_type": "markdown",
   "metadata": {},
   "source": [
    "# Looking into game sales - at a regional level"
   ]
  },
  {
   "cell_type": "code",
   "execution_count": 49,
   "metadata": {
    "collapsed": false
   },
   "outputs": [
    {
     "data": {
      "text/html": [
       "<div>\n",
       "<table border=\"1\" class=\"dataframe\">\n",
       "  <thead>\n",
       "    <tr style=\"text-align: right;\">\n",
       "      <th></th>\n",
       "      <th>Rank</th>\n",
       "      <th>Name</th>\n",
       "      <th>Platform</th>\n",
       "      <th>Release_Year</th>\n",
       "      <th>Genre</th>\n",
       "      <th>Publisher</th>\n",
       "      <th>NA_Sales</th>\n",
       "      <th>EU_Sales</th>\n",
       "      <th>JP_Sales</th>\n",
       "      <th>Other_Sales</th>\n",
       "      <th>Global_Sales</th>\n",
       "    </tr>\n",
       "  </thead>\n",
       "  <tbody>\n",
       "    <tr>\n",
       "      <th>0</th>\n",
       "      <td>3</td>\n",
       "      <td>Mario Kart Wii</td>\n",
       "      <td>Wii</td>\n",
       "      <td>2008</td>\n",
       "      <td>Racing</td>\n",
       "      <td>Nintendo</td>\n",
       "      <td>15.85</td>\n",
       "      <td>12.88</td>\n",
       "      <td>3.79</td>\n",
       "      <td>3.31</td>\n",
       "      <td>35.82</td>\n",
       "    </tr>\n",
       "    <tr>\n",
       "      <th>1</th>\n",
       "      <td>4</td>\n",
       "      <td>Wii Sports Resort</td>\n",
       "      <td>Wii</td>\n",
       "      <td>2009</td>\n",
       "      <td>Sports</td>\n",
       "      <td>Nintendo</td>\n",
       "      <td>15.75</td>\n",
       "      <td>11.01</td>\n",
       "      <td>3.28</td>\n",
       "      <td>2.96</td>\n",
       "      <td>33.00</td>\n",
       "    </tr>\n",
       "    <tr>\n",
       "      <th>2</th>\n",
       "      <td>9</td>\n",
       "      <td>New Super Mario Bros. Wii</td>\n",
       "      <td>Wii</td>\n",
       "      <td>2009</td>\n",
       "      <td>Platform</td>\n",
       "      <td>Nintendo</td>\n",
       "      <td>14.59</td>\n",
       "      <td>7.06</td>\n",
       "      <td>4.70</td>\n",
       "      <td>2.26</td>\n",
       "      <td>28.62</td>\n",
       "    </tr>\n",
       "  </tbody>\n",
       "</table>\n",
       "</div>"
      ],
      "text/plain": [
       "   Rank                       Name Platform  Release_Year     Genre Publisher  \\\n",
       "0     3             Mario Kart Wii      Wii          2008    Racing  Nintendo   \n",
       "1     4          Wii Sports Resort      Wii          2009    Sports  Nintendo   \n",
       "2     9  New Super Mario Bros. Wii      Wii          2009  Platform  Nintendo   \n",
       "\n",
       "   NA_Sales  EU_Sales  JP_Sales  Other_Sales  Global_Sales  \n",
       "0     15.85     12.88      3.79         3.31         35.82  \n",
       "1     15.75     11.01      3.28         2.96         33.00  \n",
       "2     14.59      7.06      4.70         2.26         28.62  "
      ]
     },
     "execution_count": 49,
     "metadata": {},
     "output_type": "execute_result"
    }
   ],
   "source": [
    "# Import CSV and convert to a dataframe\n",
    "import pandas as pd\n",
    "import numpy as np\n",
    "from scipy.stats import chisquare\n",
    "from scipy import stats\n",
    "import matplotlib.pyplot as plt\n",
    "import numpy as np\n",
    "from sklearn import datasets, linear_model\n",
    "from sklearn.linear_model import LinearRegression\n",
    "\n",
    "sales = pd.read_csv(\"vgsales_20072016.csv\")\n",
    "\n",
    "sales[0:3]"
   ]
  },
  {
   "cell_type": "markdown",
   "metadata": {},
   "source": [
    "## Genre - Market share"
   ]
  },
  {
   "cell_type": "markdown",
   "metadata": {},
   "source": [
    "Finding from Tableau: Action, shooter, sports are ranked at 1st through 3rd of most selling games except in Japan\n",
    "* Global: Action > Shooter > Sports > Misc > Role-Palying\n",
    "* NA: Action > Shooter > Sports\n",
    "* EU: Action > Shooter > Sports\n",
    "* JP: Role-Palying > Action > Misc\n",
    "* Other: Action > Sports > Shooter\n",
    "\n",
    "Null hypothesis: 3 major genres take up same portion of the total sum amount of sale in 3 regions"
   ]
  },
  {
   "cell_type": "code",
   "execution_count": 50,
   "metadata": {
    "collapsed": false
   },
   "outputs": [
    {
     "name": "stdout",
     "output_type": "stream",
     "text": [
      "% of 3 major genres Globally (sum of sales):  53.06 %\n",
      "% of 3 major genres in North America (sum of sales):  54.56 %\n",
      "% of 3 major genres in Europe (sum of sales):  56.58 %\n",
      "% of 3 major genres in Japan (sum of sales):  31.56 %\n",
      "% of 3 major genres in Other region (sum of sales):  57.77 %\n"
     ]
    }
   ],
   "source": [
    "major_g_s = sales[(sales.Genre =='Action') | (sales.Genre =='Sports') | (sales.Genre =='Shooter')]\n",
    "\n",
    "print(\"% of 3 major genres Globally (sum of sales): \", round(sum(major_g_s.Global_Sales)/sum(sales.Global_Sales)*100,2), \"%\")\n",
    "print(\"% of 3 major genres in North America (sum of sales): \", round(sum(major_g_s.NA_Sales)/sum(sales.NA_Sales)*100,2), \"%\")\n",
    "print(\"% of 3 major genres in Europe (sum of sales): \", round(sum(major_g_s.EU_Sales)/sum(sales.EU_Sales)*100,2), \"%\")\n",
    "print(\"% of 3 major genres in Japan (sum of sales): \", round(sum(major_g_s.JP_Sales)/sum(sales.JP_Sales)*100,2), \"%\")\n",
    "print(\"% of 3 major genres in Other region (sum of sales): \", round(sum(major_g_s.Other_Sales)/sum(sales.Other_Sales)*100,2), \"%\")"
   ]
  },
  {
   "cell_type": "code",
   "execution_count": 51,
   "metadata": {
    "collapsed": false
   },
   "outputs": [
    {
     "data": {
      "text/plain": [
       "(0.68716707567401725,\n",
       " 0.70922423161140546,\n",
       " 2,\n",
       " array([[ 1168.71166259,  2099.85833741],\n",
       "        [  770.0030528 ,  1383.4869472 ],\n",
       "        [  284.57528461,   511.30471539]]))"
      ]
     },
     "execution_count": 51,
     "metadata": {},
     "output_type": "execute_result"
    }
   ],
   "source": [
    "# Run chi-square test of independence among 3 regions for the portion of 3 major generes in total sales\n",
    "\n",
    "g_s = np.array(([sum(major_g_s.NA_Sales),sum(sales.NA_Sales)],[sum(major_g_s.EU_Sales),sum(sales.EU_Sales)],\n",
    "                [sum(major_g_s.Other_Sales),sum(sales.Other_Sales)]))\n",
    "stats.chi2_contingency(g_s) \n",
    "\n",
    "# p-value: 0.70922423161140546"
   ]
  },
  {
   "cell_type": "markdown",
   "metadata": {},
   "source": [
    "## Genre - Product performance"
   ]
  },
  {
   "cell_type": "markdown",
   "metadata": {},
   "source": [
    "Finding from Tableau: In all regions, shooter, platform, sport, racing are most profitable genres per game except in Japan  \n",
    "* Popular genres vary per region as follows (avg of sales):\n",
    "* Global: Shooter > Platform  > Sports > Racing > Role-Palying\n",
    "* NA: Shooter > Platform  > Sports\n",
    "* EU: Shooter > Platform  > Racing\n",
    "* JP: Role-Palying > Platform > Fighting > Action\n",
    "* Other: Shooter > Platform  > Racing\n",
    "\n",
    "Null hypothesis: The ratio of average sales of 4 major genres to the rest of the genres is the same throughout the region except Japan"
   ]
  },
  {
   "cell_type": "code",
   "execution_count": 52,
   "metadata": {
    "collapsed": false
   },
   "outputs": [
    {
     "name": "stdout",
     "output_type": "stream",
     "text": [
      "The ratio of 4 major genres to the rest of genres Globally (avg of sales):  179.26 %\n",
      "The ratio of 4 major genres to the rest of genres in North America (avg of sales):  189.34 %\n",
      "The ratio of 4 major genres to the rest of genres in Europe (avg of sales):  211.1 %\n",
      "The ratio of 4 major genres to the rest of genres in Japan (avg of sales):  64.6 %\n",
      "The ratio of 4 major genres to the rest of genres in Other region (avg of sales):  206.99 %\n"
     ]
    }
   ],
   "source": [
    "major_g_a = sales[(sales.Genre =='Platform') | (sales.Genre =='Shooter') | \n",
    "              (sales.Genre =='Sports')| (sales.Genre =='Racing')]\n",
    "minor_g_a = sales[(sales.Genre !='Platform') & (sales.Genre !='Shooter') & \n",
    "              (sales.Genre !='Sports')& (sales.Genre !='Racing')]\n",
    "\n",
    "print(\"The ratio of 4 major genres to the rest of genres Globally (avg of sales): \", \n",
    "      round(np.mean(major_g_a.Global_Sales)/np.mean(minor_g_a.Global_Sales)*100,2), \"%\")\n",
    "print(\"The ratio of 4 major genres to the rest of genres in North America (avg of sales): \", \n",
    "      round(np.mean(major_g_a.NA_Sales)/np.mean(minor_g_a.NA_Sales)*100,2), \"%\")\n",
    "print(\"The ratio of 4 major genres to the rest of genres in Europe (avg of sales): \", \n",
    "      round(np.mean(major_g_a.EU_Sales)/np.mean(minor_g_a.EU_Sales)*100,2), \"%\")\n",
    "print(\"The ratio of 4 major genres to the rest of genres in Japan (avg of sales): \", \n",
    "      round(np.mean(major_g_a.JP_Sales)/np.mean(minor_g_a.JP_Sales)*100,2), \"%\")\n",
    "print(\"The ratio of 4 major genres to the rest of genres in Other region (avg of sales): \", \n",
    "      round(np.mean(major_g_a.Other_Sales)/np.mean(minor_g_a.Other_Sales)*100,2), \"%\")"
   ]
  },
  {
   "cell_type": "code",
   "execution_count": 53,
   "metadata": {
    "collapsed": false
   },
   "outputs": [
    {
     "data": {
      "text/plain": [
       "(0.00061294181413150796,\n",
       " 0.99969357605034559,\n",
       " 2,\n",
       " array([[ 0.35477834,  0.17843619],\n",
       "        [ 0.23665963,  0.11902825],\n",
       "        [ 0.08640879,  0.0434594 ]]))"
      ]
     },
     "execution_count": 53,
     "metadata": {},
     "output_type": "execute_result"
    }
   ],
   "source": [
    "# Run chi-square test of independence among 3 regions \n",
    "# for the ratio of 4 major genres to the rest of genres in average sales\n",
    "\n",
    "g_a = np.array(([np.mean(major_g_a.NA_Sales),np.mean(minor_g_a.NA_Sales)],\n",
    "                  [np.mean(major_g_a.EU_Sales),np.mean(minor_g_a.EU_Sales)],\n",
    "                 [np.mean(major_g_a.Other_Sales),np.mean(minor_g_a.Other_Sales)]))\n",
    "stats.chi2_contingency(g_a) \n",
    "\n",
    "# p-value: 0.99969357605034559"
   ]
  },
  {
   "cell_type": "markdown",
   "metadata": {},
   "source": [
    "## Genre - Japan vs. rest of market"
   ]
  },
  {
   "cell_type": "markdown",
   "metadata": {},
   "source": [
    "Finding from Tableau: Japan doesn’t share the popular genres in terms of sum of sales (Role-Palying > Action > Misc) and average of sales (Role-Palying > Platform > Fighting > Action) with the rest of regions. \n",
    "\n",
    "Null hypothesis: The portion of 3 major genres of Japan in the Japanese market and the portion of global 3 major genres in the rest of the market are the same. "
   ]
  },
  {
   "cell_type": "code",
   "execution_count": 54,
   "metadata": {
    "collapsed": false
   },
   "outputs": [
    {
     "name": "stdout",
     "output_type": "stream",
     "text": [
      "% of global 3 major genres in the NA, EU, Other regions (sum of sales):  55.65 %\n",
      "% of 3 major genres of Japan in the Japanese market (sum of sales):  60.41 %\n"
     ]
    }
   ],
   "source": [
    "major_g_s_jp = sales[(sales.Genre =='Role-Playing') | (sales.Genre =='Misc') | (sales.Genre =='Action')]\n",
    "\n",
    "print(\"% of global 3 major genres in the NA, EU, Other regions (sum of sales): \", \n",
    "      round((sum(major_g_s.Global_Sales)-sum(major_g_s.JP_Sales))/(sum(sales.Global_Sales)-sum(sales.JP_Sales))*100,2), \"%\")\n",
    "print(\"% of 3 major genres of Japan in the Japanese market (sum of sales): \", \n",
    "      round(sum(major_g_s_jp.JP_Sales)/sum(sales.JP_Sales)*100,2), \"%\")"
   ]
  },
  {
   "cell_type": "code",
   "execution_count": 55,
   "metadata": {
    "collapsed": false
   },
   "outputs": [
    {
     "data": {
      "text/plain": [
       "(0.99752507416689462,\n",
       " 0.3179101094447937,\n",
       " 1,\n",
       " array([[  277.6006066,   494.2393934],\n",
       "        [ 2236.3493934,  3981.5906066]]))"
      ]
     },
     "execution_count": 55,
     "metadata": {},
     "output_type": "execute_result"
    }
   ],
   "source": [
    "# Run chi-square test of independence to compare the portion of main 3 genres are the same \n",
    "# in Japan and the rest of markets\n",
    "\n",
    "g_s_jp = np.array(([sum(major_g_s_jp.JP_Sales),sum(sales.JP_Sales)],\n",
    "                   [sum(major_g_s.NA_Sales+major_g_s.EU_Sales+major_g_s.Other_Sales),\n",
    "                   sum(sales.NA_Sales+sales.EU_Sales+sales.Other_Sales)]))\n",
    "                      \n",
    "stats.chi2_contingency(g_s_jp) \n",
    "\n",
    "# p-values: 0.3179101094447937"
   ]
  },
  {
   "cell_type": "code",
   "execution_count": 56,
   "metadata": {
    "collapsed": false
   },
   "outputs": [
    {
     "name": "stdout",
     "output_type": "stream",
     "text": [
      "The ratio of 4 major genres to the rest of genres in the NA, EU, Other regions:  198.74 %\n",
      "The ratio of 4 major genres to the rest of genres in Japan:  100.81 %\n"
     ]
    }
   ],
   "source": [
    "major_g_a_jp = sales[(sales.Genre =='Role-Palying') | (sales.Genre =='Platform') | \n",
    "              (sales.Genre =='Fighting')| (sales.Genre =='Action')]\n",
    "minor_g_a_jp = sales[(sales.Genre !='Role-Palying') & (sales.Genre !='Platform') & \n",
    "              (sales.Genre !='Fighting')& (sales.Genre !='Action')]\n",
    "\n",
    "print(\"The ratio of 4 major genres to the rest of genres in the NA, EU, Other regions: \", \n",
    "      round(np.mean(major_g_a.Global_Sales-major_g_a.JP_Sales)/np.mean(minor_g_a.Global_Sales-minor_g_a.JP_Sales)*100,2), \"%\")\n",
    "print(\"The ratio of 4 major genres to the rest of genres in Japan: \", \n",
    "      round(np.mean(major_g_a_jp.JP_Sales)/np.mean(minor_g_a_jp.JP_Sales)*100,2), \"%\")"
   ]
  },
  {
   "cell_type": "code",
   "execution_count": 57,
   "metadata": {
    "collapsed": false
   },
   "outputs": [
    {
     "data": {
      "text/plain": [
       "(10.864501662786338,\n",
       " 0.00098025125039657946,\n",
       " 1,\n",
       " array([[ 0.06810032,  0.03664856],\n",
       "        [ 0.66233265,  0.35643795]]))"
      ]
     },
     "execution_count": 57,
     "metadata": {},
     "output_type": "execute_result"
    }
   ],
   "source": [
    "# Run chi-square test of independence to see whether the ratio of average sales of 4 most profitable genres in Japan \n",
    "# to the rest of the genres is as high as the ratio of average sales of 4 most profitable genres globally \n",
    "# in the rest of the world to other genres\n",
    "\n",
    "g_a_jp = np.array(([np.mean(major_g_a_jp.JP_Sales),np.mean(minor_g_a_jp.JP_Sales)],\n",
    "                   [np.mean(major_g_a.NA_Sales+major_g_a.EU_Sales+major_g_a.Other_Sales),\n",
    "                   np.mean(minor_g_a.NA_Sales+minor_g_a.EU_Sales+minor_g_a.Other_Sales)]))\n",
    "                      \n",
    "stats.chi2_contingency(g_a_jp) \n",
    "\n",
    "# p-value: 0.00098025125039657946"
   ]
  },
  {
   "cell_type": "markdown",
   "metadata": {},
   "source": [
    "## Publisher - Market share"
   ]
  },
  {
   "cell_type": "markdown",
   "metadata": {},
   "source": [
    "Finding from Tableau: In terms of sum of sales, a few publishers such as  Nintendo, Electronic Arts, Activision do well throughout the regions except Japan -  Electronic Arts and Activision are not in the forefront in Japan unlike elsewhere.\n",
    "\n",
    "* Global Top publishers, In terms of total sales: Nitendo > Electronic Arts > Activision\n",
    "* Top publishers in North America, In terms of total sales: Activision > Electronic Arts > Nintendo\n",
    "* Top publishers in Europe, In terms of total sales: Electronic Arts > Nintendo > Activision\n",
    "* Top publishers in Japan, In terms of total sales: Nitendo >  Namco Bandai Games > Capcom\n",
    "* Top publishers in other region, In terms of total sales: Electronic Arts >  Activision > Nintendo\n",
    "\n",
    "Null hypothesis: 3 major publishers take up the same portion in the sum of sales in 3 regions"
   ]
  },
  {
   "cell_type": "code",
   "execution_count": 58,
   "metadata": {
    "collapsed": false
   },
   "outputs": [
    {
     "name": "stdout",
     "output_type": "stream",
     "text": [
      "% of 3 major pubslisher Globally (sum of sales):  38.69 %\n",
      "% of 3 major pubslisher in North America (sum of sales):  38.54 %\n",
      "% of 3 major pubslisher in Europe (sum of sales):  40.44 %\n",
      "% of 3 major pubslisher in Japan (sum of sales):  35.21 %\n",
      "% of 3 major pubslisher in Other region (sum of sales):  37.98 %\n"
     ]
    }
   ],
   "source": [
    "# Run chi-square test of independence among 3 regions for the portion of 3 major publishers in total sales\n",
    "\n",
    "major_p_s = sales[(sales.Publisher =='Nintendo') | (sales.Publisher =='Electronic Arts') \n",
    "                  | (sales.Publisher =='Activision')]\n",
    "\n",
    "print(\"% of 3 major pubslisher Globally (sum of sales): \", round(sum(major_p_s.Global_Sales)/sum(sales.Global_Sales)*100,2), \"%\")\n",
    "print(\"% of 3 major pubslisher in North America (sum of sales): \", round(sum(major_p_s.NA_Sales)/sum(sales.NA_Sales)*100,2), \"%\")\n",
    "print(\"% of 3 major pubslisher in Europe (sum of sales): \", round(sum(major_p_s.EU_Sales)/sum(sales.EU_Sales)*100,2), \"%\")\n",
    "print(\"% of 3 major pubslisher in Japan (sum of sales): \", round(sum(major_p_s.JP_Sales)/sum(sales.JP_Sales)*100,2), \"%\")\n",
    "print(\"% of 3 major pubslisher in Other region (sum of sales): \", round(sum(major_p_s.Other_Sales)/sum(sales.Other_Sales)*100,2), \"%\")"
   ]
  },
  {
   "cell_type": "code",
   "execution_count": 59,
   "metadata": {
    "collapsed": false
   },
   "outputs": [
    {
     "data": {
      "text/plain": [
       "(0.68966500027560074,\n",
       " 0.70833899021495483,\n",
       " 2,\n",
       " array([[  823.9211693 ,  2105.9588307 ],\n",
       "        [  543.18032608,  1388.37967392],\n",
       "        [  195.73850461,   500.31149539]]))"
      ]
     },
     "execution_count": 59,
     "metadata": {},
     "output_type": "execute_result"
    }
   ],
   "source": [
    "# Run chi-square test of independence between 3 major publishers and the rest of publishers - in sum of sales, NA & EU\n",
    "\n",
    "p_s = np.array(([sum(major_p_s.NA_Sales),sum(sales.NA_Sales)],\n",
    "                [sum(major_p_s.EU_Sales),sum(sales.EU_Sales)],\n",
    "                [sum(major_p_s.Other_Sales),sum(sales.Other_Sales)]))\n",
    "stats.chi2_contingency(p_s) \n",
    "\n",
    "# p-value: 0.70833899021495483"
   ]
  },
  {
   "cell_type": "markdown",
   "metadata": {},
   "source": [
    "## Publisher - Product performance"
   ]
  },
  {
   "cell_type": "markdown",
   "metadata": {},
   "source": [
    "Finding from Tableau: Different publishers outperfom in each region for average sales amount.  \n",
    "\n",
    "* Top publishers globally in terms of average of sales: Nitendo > Microsoft Game Studios > Valve > Hello Games > Sony Computer Entertainment\n",
    "* Top publishers in North America, In terms of average of sales: Microsoft Game Studios > RedOctane > Nintendo\n",
    "* Top publishers in Europe, In terms of average of sales: Hello Games > Nintendo > Valve\n",
    "* Top publishers in Japan, In terms of average of sales: Mixi > Nintendo > Level 5\n",
    "* Top publishers in other region, In terms of average of sales: Hello Games > Valve > Sony Computer Entertainment Europe\n",
    "\n",
    "Null hypothesis: Top 3 publishers for each region vary in every region but the ratio of average sales of 3 major publishers of each region to the rest of the publishers are the same throughout the region "
   ]
  },
  {
   "cell_type": "code",
   "execution_count": 60,
   "metadata": {
    "collapsed": false
   },
   "outputs": [
    {
     "name": "stdout",
     "output_type": "stream",
     "text": [
      "Average sales amount of 3 major publishers in North America is 489.6 % larger than the average of the rest\n",
      "Average sales amount of 3 major publishers in Europe is 470.28 % larger than the average of the rest\n",
      "Average sales amount of 3 major publishers in Japan is 1099.84 % larger than the average of the rest\n",
      "Average sales amount of 3 major publishers in Other region is 265.93 % larger than the average of the rest\n"
     ]
    }
   ],
   "source": [
    "major_p_a_NA = sales[(sales.Publisher =='Microsoft Game Studios') | (sales.Publisher =='Nintendo') \n",
    "                  | (sales.Publisher =='RedOctane')]\n",
    "minor_p_a_NA = sales[(sales.Publisher !='Microsoft Game Studios') & (sales.Publisher !='Nintendo') \n",
    "                  & (sales.Publisher !='RedOctane')]\n",
    "\n",
    "major_p_a_EU = sales[(sales.Publisher =='Hello Games') | (sales.Publisher =='Nintendo') \n",
    "                  | (sales.Publisher =='Valve Software')]\n",
    "minor_p_a_EU = sales[(sales.Publisher !='Hello Games') & (sales.Publisher !='Nintendo') \n",
    "                  & (sales.Publisher !='Valve Software')]\n",
    "\n",
    "major_p_a_JP = sales[(sales.Publisher =='Nintendo') | (sales.Publisher =='mixi, Inc') \n",
    "                  | (sales.Publisher =='Level 5')]\n",
    "minor_p_a_JP = sales[(sales.Publisher !='Enix Corporation') & (sales.Publisher !='mixi, Inc') \n",
    "                  & (sales.Publisher !='Level 5')]\n",
    "\n",
    "major_p_a_OT = sales[(sales.Publisher =='Hello Games') | (sales.Publisher =='Valve Software') \n",
    "                  | (sales.Publisher =='Sony')]\n",
    "minor_p_a_OT = sales[(sales.Publisher !='Hello Games') & (sales.Publisher !='Valve Software') \n",
    "                  & (sales.Publisher !='Sony Computer Entertainment Europe')]\n",
    "\n",
    "print(\"Average sales amount of 3 major publishers in North America is\", \n",
    "      round(np.mean(major_p_a_NA.NA_Sales)/np.mean(minor_p_a_NA.NA_Sales)*100,2), \n",
    "      \"% larger than the average of the rest\")\n",
    "print(\"Average sales amount of 3 major publishers in Europe is\", \n",
    "      round(np.mean(major_p_a_EU.EU_Sales)/np.mean(minor_p_a_EU.EU_Sales)*100,2), \n",
    "      \"% larger than the average of the rest\")\n",
    "print(\"Average sales amount of 3 major publishers in Japan is\", \n",
    "      round(np.mean(major_p_a_JP.JP_Sales)/np.mean(minor_p_a_JP.JP_Sales)*100,2), \n",
    "      \"% larger than the average of the rest\")\n",
    "print(\"Average sales amount of 3 major publishers in Other region is\", \n",
    "      round(np.mean(major_p_a_OT.Other_Sales)/np.mean(minor_p_a_OT.Other_Sales)*100,2), \n",
    "      \"% larger than the average of the rest\")"
   ]
  },
  {
   "cell_type": "code",
   "execution_count": 61,
   "metadata": {
    "collapsed": false
   },
   "outputs": [
    {
     "data": {
      "text/plain": [
       "(0.048113181700491954,\n",
       " 0.99723334529765295,\n",
       " 3,\n",
       " array([[ 0.98501062,  0.18692837],\n",
       "        [ 0.64385639,  0.12218652],\n",
       "        [ 0.51519222,  0.09776954],\n",
       "        [ 0.16770079,  0.03182507]]))"
      ]
     },
     "execution_count": 61,
     "metadata": {},
     "output_type": "execute_result"
    }
   ],
   "source": [
    "# Run chi-square test of independence among 4 regions \n",
    "# for the ratio of average sale of 3 major publishers of each region to the one of rest of publishers in each region \n",
    "\n",
    "p_a = np.array(([np.mean(major_p_a_NA.NA_Sales),np.mean(minor_p_a_NA.NA_Sales)],\n",
    "                  [np.mean(major_p_a_EU.EU_Sales),np.mean(minor_p_a_EU.EU_Sales)],\n",
    "                [np.mean(major_p_a_JP.JP_Sales),np.mean(minor_p_a_JP.JP_Sales)],\n",
    "                 [np.mean(major_p_a_OT.Other_Sales),np.mean(minor_p_a_OT.Other_Sales)]))\n",
    "\n",
    "stats.chi2_contingency(p_a) \n",
    "\n",
    "# p-value: 0.99723334529765295"
   ]
  },
  {
   "cell_type": "markdown",
   "metadata": {},
   "source": [
    "## Publisher - Japan vs. rest of market"
   ]
  },
  {
   "cell_type": "markdown",
   "metadata": {},
   "source": [
    "Finding from Tableau: Japan doesn’t share the popular publishers in terms of sum of sales (Nitendo >  Namco Bandai Games > Capcom) \n",
    "\n",
    "Null hypothesis: The portion of 3 major publisher of Japan in the Japanese market and the portion of global 3 major publishers in the rest of the market are the same. "
   ]
  },
  {
   "cell_type": "code",
   "execution_count": 62,
   "metadata": {
    "collapsed": false
   },
   "outputs": [
    {
     "name": "stdout",
     "output_type": "stream",
     "text": [
      "% of global 3 major publisher in the NA, EU, Other regions (sum of sales):  39.11 %\n",
      "% of 3 major publisher of Japan in the Japanese market (sum of sales):  53.34 %\n"
     ]
    }
   ],
   "source": [
    "major_p_s_jp = sales[(sales.Publisher =='Nintendo') | (sales.Publisher =='Namco Bandai Games') \n",
    "                  | (sales.Publisher =='Capcom')]\n",
    "\n",
    "print(\"% of global 3 major publisher in the NA, EU, Other regions (sum of sales): \", \n",
    "      round((sum(major_p_s.Global_Sales)-sum(major_p_s.JP_Sales))/(sum(sales.Global_Sales)-sum(sales.JP_Sales))*100,2), \"%\")\n",
    "print(\"% of 3 major publisher of Japan in the Japanese market (sum of sales): \", \n",
    "      round(sum(major_p_s_jp.JP_Sales)/sum(sales.JP_Sales)*100,2), \"%\")"
   ]
  },
  {
   "cell_type": "code",
   "execution_count": 63,
   "metadata": {
    "collapsed": false
   },
   "outputs": [
    {
     "data": {
      "text/plain": [
       "(13.761980215267526,\n",
       " 0.00020749325953488894,\n",
       " 1,\n",
       " array([[  213.26074439,   524.59925561],\n",
       "        [ 1606.25925561,  3951.23074439]]))"
      ]
     },
     "execution_count": 63,
     "metadata": {},
     "output_type": "execute_result"
    }
   ],
   "source": [
    "# Run chi-square test of independence to compare the portion of main 3 publishers are the same \n",
    "# in Japan and the rest of markets\n",
    "\n",
    "p_s_jp = np.array(([sum(major_p_s_jp.JP_Sales),sum(sales.JP_Sales)],\n",
    "                   [sum(major_p_s.NA_Sales+major_p_s.EU_Sales+major_p_s.Other_Sales),\n",
    "                   sum(sales.NA_Sales+sales.EU_Sales+sales.Other_Sales)]))\n",
    "                      \n",
    "stats.chi2_contingency(p_s_jp) \n",
    "\n",
    "# p-values: 0.00020749325953488894"
   ]
  },
  {
   "cell_type": "markdown",
   "metadata": {},
   "source": [
    "## Platform - Market share"
   ]
  },
  {
   "cell_type": "markdown",
   "metadata": {},
   "source": [
    "Finding from Tableau: Top 3 platforms in sum amount of sales are X360 > Wii > PS3  in all regions except Japan.  \n",
    "\n",
    "* Top platforms globally, In terms of sum of sales: PS3 > X360 >Wii \n",
    "* Top platforms in North America, In terms of sum of sales:  X360 > Wii > PS3\n",
    "* Top platforms in Europe, In terms of sum of sales: PS3 > X360 > Wii\n",
    "* Top platforms in Japan, In terms of sum of sales:  DS > 3DS > PS3\n",
    "* Top platforms in other region, In terms of sum of sales: PS3 > X360 > Wii\n",
    "\n",
    "Null hypothesis: 3 major platforms take up the same portion in the sum of sales"
   ]
  },
  {
   "cell_type": "code",
   "execution_count": 64,
   "metadata": {
    "collapsed": false
   },
   "outputs": [
    {
     "name": "stdout",
     "output_type": "stream",
     "text": [
      "% of 4 major platforms Globally (sum of sales):  58.28 %\n",
      "% of 4 major platforms in North America (sum of sales):  64.23 %\n",
      "% of 4 major platforms in Europe (sum of sales):  59.61 %\n",
      "% of 4 major platforms in Japan (sum of sales):  30.78 %\n",
      "% of 4 major platforms in other region (sum of sales):  55.97 %\n"
     ]
    }
   ],
   "source": [
    "major_pl_s = sales[(sales.Platform =='X360') | (sales.Platform =='PS3')|(sales.Platform =='Wii')]\n",
    "\n",
    "print(\"% of 4 major platforms Globally (sum of sales): \", round(sum(major_pl_s.Global_Sales)/sum(sales.Global_Sales)*100,2), \"%\")\n",
    "print(\"% of 4 major platforms in North America (sum of sales): \", round(sum(major_pl_s.NA_Sales)/sum(sales.NA_Sales)*100,2), \"%\")\n",
    "print(\"% of 4 major platforms in Europe (sum of sales): \", round(sum(major_pl_s.EU_Sales)/sum(sales.EU_Sales)*100,2), \"%\")\n",
    "print(\"% of 4 major platforms in Japan (sum of sales): \", round(sum(major_pl_s.JP_Sales)/sum(sales.JP_Sales)*100,2), \"%\")\n",
    "print(\"% of 4 major platforms in other region (sum of sales): \", round(sum(major_pl_s.Other_Sales)/sum(sales.Other_Sales)*100,2), \"%\")"
   ]
  },
  {
   "cell_type": "code",
   "execution_count": 65,
   "metadata": {
    "collapsed": false
   },
   "outputs": [
    {
     "data": {
      "text/plain": [
       "(3.6677652596927057,\n",
       " 0.15979194880824499,\n",
       " 2,\n",
       " array([[ 1323.93970939,  2149.30029061],\n",
       "        [  836.79176994,  1358.45823006],\n",
       "        [  299.91852067,   486.89147933]]))"
      ]
     },
     "execution_count": 65,
     "metadata": {},
     "output_type": "execute_result"
    }
   ],
   "source": [
    "# Run chi-square test of independence among 3 regions for the portion of 3 major generes in total sales\n",
    "\n",
    "pl_s = np.array(([sum(major_pl_s.NA_Sales),sum(sales.NA_Sales)],\n",
    "                 [sum(major_pl_s.EU_Sales),sum(sales.EU_Sales)],\n",
    "                [sum(major_pl_s.Other_Sales),sum(sales.Other_Sales)]))\n",
    "\n",
    "stats.chi2_contingency(pl_s) \n",
    "\n",
    "# p-value: 0.15979194880824499"
   ]
  },
  {
   "cell_type": "markdown",
   "metadata": {},
   "source": [
    "## Platform - Product performance"
   ]
  },
  {
   "cell_type": "markdown",
   "metadata": {},
   "source": [
    "Finding from Tableau: Top 3 platforms in average amount of sales differ across the region. \n",
    "* Top platforms globally, In terms of average sales: PS4 > X360 > PS3 > XOne > Wii\n",
    "* Top platforms in North America, In terms of average sales: X360 > GBA > XOne\n",
    "* Top platforms in Europe, In terms of average sales:  PS4 > PS3 > X360 \n",
    "* Top platforms in Japan, In terms of average sales: 3DS > WiiU > PSP\n",
    "* Top platforms in other region, In terms of average sales:  PS4 > PS3 > PS2\n",
    "\n",
    "Null hypothesis: Top 3 platforms for each region vary in every region but the ratio of average sales of 3 major platforms of each region to the rest of the platforms are the same throughout the region "
   ]
  },
  {
   "cell_type": "code",
   "execution_count": 66,
   "metadata": {
    "collapsed": false
   },
   "outputs": [
    {
     "name": "stdout",
     "output_type": "stream",
     "text": [
      "Average sales amount of 3 major platforms in North America is 223.64 % larger than the average of the rest\n",
      "Average sales amount of 3 major platforms in Europe is 261.98 % larger than the average of the rest\n",
      "Average sales amount of 3 major platforms in Japan is 288.23 % larger than the average of the rest\n",
      "Average sales amount of 3 major platforms in Other region is 284.52 % larger than the average of the rest\n"
     ]
    }
   ],
   "source": [
    "major_pl_a_NA = sales[(sales.Platform =='X360') | (sales.Platform =='GBA') | (sales.Platform =='PS3')]\n",
    "minor_pl_a_NA = sales[(sales.Platform !='X360') & (sales.Platform !='GBA') & (sales.Platform !='PS3')]\n",
    "\n",
    "major_pl_a_EU = sales[(sales.Platform =='PS4') | (sales.Platform =='PS3') | (sales.Platform =='X360')]\n",
    "minor_pl_a_EU = sales[(sales.Platform !='PS4') & (sales.Platform !='PS3') & (sales.Platform !='X360')]\n",
    "\n",
    "major_pl_a_JP = sales[(sales.Platform =='3DS') | (sales.Platform =='WiiU') | (sales.Platform =='PSP')]\n",
    "minor_pl_a_JP = sales[(sales.Platform !='3DS') & (sales.Platform !='WiiU') & (sales.Platform !='PSP')]\n",
    "\n",
    "major_pl_a_OT = sales[(sales.Platform =='PS4') | (sales.Platform =='PS3') | (sales.Platform =='PS2')]\n",
    "minor_pl_a_OT = sales[(sales.Platform !='PS4') & (sales.Platform !='PS3') & (sales.Platform !='PS2')]\n",
    "\n",
    "print(\"Average sales amount of 3 major platforms in North America is\", \n",
    "      round(np.mean(major_pl_a_NA.NA_Sales)/np.mean(minor_pl_a_NA.NA_Sales)*100,2), \n",
    "      \"% larger than the average of the rest\")\n",
    "print(\"Average sales amount of 3 major platforms in Europe is\", \n",
    "      round(np.mean(major_pl_a_EU.EU_Sales)/np.mean(minor_pl_a_EU.EU_Sales)*100,2), \n",
    "      \"% larger than the average of the rest\")\n",
    "print(\"Average sales amount of 3 major platforms in Japan is\", \n",
    "      round(np.mean(major_pl_a_JP.JP_Sales)/np.mean(minor_pl_a_JP.JP_Sales)*100,2), \n",
    "      \"% larger than the average of the rest\")\n",
    "print(\"Average sales amount of 3 major platforms in Other region is\", \n",
    "      round(np.mean(major_pl_a_OT.Other_Sales)/np.mean(minor_pl_a_OT.Other_Sales)*100,2), \n",
    "      \"% larger than the average of the rest\")"
   ]
  },
  {
   "cell_type": "code",
   "execution_count": 67,
   "metadata": {
    "collapsed": false
   },
   "outputs": [
    {
     "data": {
      "text/plain": [
       "(0.0027091859532259923,\n",
       " 0.99996252651521211,\n",
       " 3,\n",
       " array([[ 0.40075822,  0.16126908],\n",
       "        [ 0.26038183,  0.10478023],\n",
       "        [ 0.11011458,  0.0443112 ],\n",
       "        [ 0.10491447,  0.04221862]]))"
      ]
     },
     "execution_count": 67,
     "metadata": {},
     "output_type": "execute_result"
    }
   ],
   "source": [
    "# Run chi-square test of independence among 4 regions \n",
    "# for the ratio of average sale of 3 major platforms of each region to the one of rest of platforms in each region \n",
    "\n",
    "pl_a = np.array(([np.mean(major_pl_a_NA.NA_Sales),np.mean(minor_pl_a_NA.NA_Sales)],\n",
    "                  [np.mean(major_pl_a_EU.EU_Sales),np.mean(minor_pl_a_EU.EU_Sales)],\n",
    "                [np.mean(major_pl_a_JP.JP_Sales),np.mean(minor_pl_a_JP.JP_Sales)],\n",
    "                 [np.mean(major_pl_a_OT.Other_Sales),np.mean(minor_pl_a_OT.Other_Sales)]))\n",
    "\n",
    "stats.chi2_contingency(pl_a) \n",
    "\n",
    "# p-value: 0.99996252651521211"
   ]
  },
  {
   "cell_type": "markdown",
   "metadata": {},
   "source": [
    "## Platform - Japan vs. rest of market"
   ]
  },
  {
   "cell_type": "markdown",
   "metadata": {},
   "source": [
    "Finding from Tableau: Japan doesn’t share the popular platforms in terms of sum of sales \n",
    "\n",
    "Null hypothesis: The portion of 3 major platforms of Japan in the Japanese market and the portion of global 3 major platforms in the rest of the market are the same. "
   ]
  },
  {
   "cell_type": "code",
   "execution_count": 68,
   "metadata": {
    "collapsed": false
   },
   "outputs": [
    {
     "name": "stdout",
     "output_type": "stream",
     "text": [
      "% of global 4 major platform in the NA, EU, Other regions (sum of sales):  61.59 %\n",
      "% of 4 major platform of Japan in the Japanese market (sum of sales):  57.85 %\n"
     ]
    }
   ],
   "source": [
    "major_pl_s_jp = sales[(sales.Platform =='DS') | (sales.Platform =='PS3')| (sales.Platform =='3DS')]\n",
    "\n",
    "print(\"% of global 4 major platform in the NA, EU, Other regions (sum of sales): \", \n",
    "      round((sum(major_pl_s.Global_Sales)-sum(major_pl_s.JP_Sales))/(sum(sales.Global_Sales)-sum(sales.JP_Sales))*100,2), \"%\")\n",
    "print(\"% of 4 major platform of Japan in the Japanese market (sum of sales): \", \n",
    "      round(sum(major_pl_s_jp.JP_Sales)/sum(sales.JP_Sales)*100,2), \"%\")"
   ]
  },
  {
   "cell_type": "code",
   "execution_count": 69,
   "metadata": {
    "collapsed": false
   },
   "outputs": [
    {
     "data": {
      "text/plain": [
       "(0.56184837206753357,\n",
       " 0.45351646263207468,\n",
       " 1,\n",
       " array([[  288.35286125,   471.19713875],\n",
       "        [ 2450.66713875,  4004.63286125]]))"
      ]
     },
     "execution_count": 69,
     "metadata": {},
     "output_type": "execute_result"
    }
   ],
   "source": [
    "# Run chi-square test of independence to compare the portion of main 3 platforms are the same \n",
    "# in Japan and the rest of markets\n",
    "\n",
    "pl_s_jp = np.array(([sum(major_pl_s_jp.JP_Sales),sum(sales.JP_Sales)],\n",
    "                   [sum(major_pl_s.NA_Sales+major_pl_s.EU_Sales+major_pl_s.Other_Sales),\n",
    "                   sum(sales.NA_Sales+sales.EU_Sales+sales.Other_Sales)]))\n",
    "                      \n",
    "stats.chi2_contingency(pl_s_jp) \n",
    "\n",
    "# p-values: 0.45351646263207468"
   ]
  }
 ],
 "metadata": {
  "anaconda-cloud": {},
  "kernelspec": {
   "display_name": "Python [conda root]",
   "language": "python",
   "name": "conda-root-py"
  },
  "language_info": {
   "codemirror_mode": {
    "name": "ipython",
    "version": 3
   },
   "file_extension": ".py",
   "mimetype": "text/x-python",
   "name": "python",
   "nbconvert_exporter": "python",
   "pygments_lexer": "ipython3",
   "version": "3.5.2"
  }
 },
 "nbformat": 4,
 "nbformat_minor": 1
}
