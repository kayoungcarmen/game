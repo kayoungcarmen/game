{
 "cells": [
  {
   "cell_type": "markdown",
   "metadata": {},
   "source": [
    "# 1. Exploration of sales and IGN’s evaluation data"
   ]
  },
  {
   "cell_type": "code",
   "execution_count": 2,
   "metadata": {
    "collapsed": false
   },
   "outputs": [
    {
     "data": {
      "text/html": [
       "<div>\n",
       "<table border=\"1\" class=\"dataframe\">\n",
       "  <thead>\n",
       "    <tr style=\"text-align: right;\">\n",
       "      <th></th>\n",
       "      <th>vgs_Rank</th>\n",
       "      <th>vgs_Platform</th>\n",
       "      <th>vgs_Genre</th>\n",
       "      <th>vgs_Publisher</th>\n",
       "      <th>vgs_NA_Sales</th>\n",
       "      <th>vgs_EU_Sales</th>\n",
       "      <th>vgs_JP_Sales</th>\n",
       "      <th>vgs_Other_Sales</th>\n",
       "      <th>vgs_Global_Sales</th>\n",
       "      <th>ign_score_phrase</th>\n",
       "      <th>ign_title</th>\n",
       "      <th>ign_score</th>\n",
       "      <th>ign_editors_choice</th>\n",
       "      <th>ign_release_year</th>\n",
       "      <th>ign_release_month</th>\n",
       "      <th>ign_release_day</th>\n",
       "    </tr>\n",
       "  </thead>\n",
       "  <tbody>\n",
       "    <tr>\n",
       "      <th>0</th>\n",
       "      <td>35</td>\n",
       "      <td>PlayStation 3</td>\n",
       "      <td>Shooter</td>\n",
       "      <td>Activision</td>\n",
       "      <td>4.99</td>\n",
       "      <td>5.88</td>\n",
       "      <td>0.65</td>\n",
       "      <td>2.52</td>\n",
       "      <td>14.03</td>\n",
       "      <td>Amazing</td>\n",
       "      <td>Call of Duty: Black Ops II</td>\n",
       "      <td>9.3</td>\n",
       "      <td>Y</td>\n",
       "      <td>2012</td>\n",
       "      <td>11</td>\n",
       "      <td>13</td>\n",
       "    </tr>\n",
       "    <tr>\n",
       "      <th>1</th>\n",
       "      <td>36</td>\n",
       "      <td>Xbox 360</td>\n",
       "      <td>Shooter</td>\n",
       "      <td>Activision</td>\n",
       "      <td>8.25</td>\n",
       "      <td>4.30</td>\n",
       "      <td>0.07</td>\n",
       "      <td>1.12</td>\n",
       "      <td>13.73</td>\n",
       "      <td>Amazing</td>\n",
       "      <td>Call of Duty: Black Ops II</td>\n",
       "      <td>9.3</td>\n",
       "      <td>Y</td>\n",
       "      <td>2012</td>\n",
       "      <td>11</td>\n",
       "      <td>13</td>\n",
       "    </tr>\n",
       "    <tr>\n",
       "      <th>2</th>\n",
       "      <td>47</td>\n",
       "      <td>Nintendo 64</td>\n",
       "      <td>Platform</td>\n",
       "      <td>Nintendo</td>\n",
       "      <td>6.91</td>\n",
       "      <td>2.85</td>\n",
       "      <td>1.91</td>\n",
       "      <td>0.23</td>\n",
       "      <td>11.89</td>\n",
       "      <td>Amazing</td>\n",
       "      <td>Super Mario 64</td>\n",
       "      <td>9.8</td>\n",
       "      <td>Y</td>\n",
       "      <td>1996</td>\n",
       "      <td>9</td>\n",
       "      <td>25</td>\n",
       "    </tr>\n",
       "  </tbody>\n",
       "</table>\n",
       "</div>"
      ],
      "text/plain": [
       "   vgs_Rank   vgs_Platform vgs_Genre vgs_Publisher  vgs_NA_Sales  \\\n",
       "0        35  PlayStation 3   Shooter    Activision          4.99   \n",
       "1        36       Xbox 360   Shooter    Activision          8.25   \n",
       "2        47    Nintendo 64  Platform      Nintendo          6.91   \n",
       "\n",
       "   vgs_EU_Sales  vgs_JP_Sales  vgs_Other_Sales  vgs_Global_Sales  \\\n",
       "0          5.88          0.65             2.52             14.03   \n",
       "1          4.30          0.07             1.12             13.73   \n",
       "2          2.85          1.91             0.23             11.89   \n",
       "\n",
       "  ign_score_phrase                   ign_title  ign_score ign_editors_choice  \\\n",
       "0          Amazing  Call of Duty: Black Ops II        9.3                  Y   \n",
       "1          Amazing  Call of Duty: Black Ops II        9.3                  Y   \n",
       "2          Amazing              Super Mario 64        9.8                  Y   \n",
       "\n",
       "   ign_release_year  ign_release_month  ign_release_day  \n",
       "0              2012                 11               13  \n",
       "1              2012                 11               13  \n",
       "2              1996                  9               25  "
      ]
     },
     "execution_count": 2,
     "metadata": {},
     "output_type": "execute_result"
    }
   ],
   "source": [
    "# Import CSV and convert to a datafram\n",
    "import pandas as pd\n",
    "import numpy as np\n",
    "from scipy.stats import chisquare\n",
    "from scipy import stats\n",
    "import matplotlib.pyplot as plt\n",
    "import numpy as np\n",
    "from sklearn import datasets, linear_model\n",
    "from sklearn.linear_model import LinearRegression\n",
    "\n",
    "\n",
    "game_inner = pd.read_csv(\"game_innerjoin.csv\")\n",
    "game_inner[0:3]"
   ]
  },
  {
   "cell_type": "markdown",
   "metadata": {},
   "source": [
    "- T: Chosen games by editors sold more in every region \n",
    "- H0 drawn from T: Games chose by editor sell more in every region \n",
    "- P: tow-sample t-test로 에디터 선택 되었는지 여부에 따라 평균이 다른지 지역별로 확인"
   ]
  },
  {
   "cell_type": "code",
   "execution_count": 3,
   "metadata": {
    "collapsed": false
   },
   "outputs": [
    {
     "data": {
      "text/plain": [
       "Ttest_indResult(statistic=2.4446852064668101, pvalue=0.020791184993641691)"
      ]
     },
     "execution_count": 3,
     "metadata": {},
     "output_type": "execute_result"
    }
   ],
   "source": [
    "# Perform two sameple t-test for difference in means Globally\n",
    "\n",
    "editor_y = game_inner[game_inner['ign_editors_choice'] == 'Y']\n",
    "editor_n = game_inner[game_inner['ign_editors_choice'] == 'N']\n",
    "\n",
    "stats.stats.ttest_ind(editor_y['vgs_Global_Sales'], editor_n['vgs_Global_Sales'], equal_var = False)\n",
    "# Ttest_indResult(statistic=2.4446852064668101, pvalue=0.020791184993641691)"
   ]
  },
  {
   "cell_type": "code",
   "execution_count": 4,
   "metadata": {
    "collapsed": false
   },
   "outputs": [
    {
     "data": {
      "text/plain": [
       "Ttest_indResult(statistic=1.9506917163902666, pvalue=0.061507054219018073)"
      ]
     },
     "execution_count": 4,
     "metadata": {},
     "output_type": "execute_result"
    }
   ],
   "source": [
    "# Perform two sameple t-test for difference in means in North America\n",
    "\n",
    "stats.stats.ttest_ind(editor_y['vgs_NA_Sales'], editor_n['vgs_NA_Sales'], equal_var = False)\n",
    "# Ttest_indResult(statistic=1.9506917163902666, pvalue=0.061507054219018073)"
   ]
  },
  {
   "cell_type": "code",
   "execution_count": 5,
   "metadata": {
    "collapsed": false
   },
   "outputs": [
    {
     "data": {
      "text/plain": [
       "Ttest_indResult(statistic=2.1069804540405919, pvalue=0.04318424072476048)"
      ]
     },
     "execution_count": 5,
     "metadata": {},
     "output_type": "execute_result"
    }
   ],
   "source": [
    "# Perform two sameple t-test for difference in means in Europe\n",
    "\n",
    "stats.stats.ttest_ind(editor_y['vgs_EU_Sales'], editor_n['vgs_EU_Sales'], equal_var = False)\n",
    "# Ttest_indResult(statistic=2.1069804540405919, pvalue=0.04318424072476048)"
   ]
  },
  {
   "cell_type": "code",
   "execution_count": 6,
   "metadata": {
    "collapsed": false
   },
   "outputs": [
    {
     "data": {
      "text/plain": [
       "Ttest_indResult(statistic=0.69194715736655232, pvalue=0.49369254138105012)"
      ]
     },
     "execution_count": 6,
     "metadata": {},
     "output_type": "execute_result"
    }
   ],
   "source": [
    "# Perform two sameple t-test for difference in means in Japan\n",
    "\n",
    "stats.stats.ttest_ind(editor_y['vgs_JP_Sales'], editor_n['vgs_JP_Sales'], equal_var = False)\n",
    "# Ttest_indResult(statistic=0.69194715736655232, pvalue=0.49369254138105012)"
   ]
  },
  {
   "cell_type": "code",
   "execution_count": 7,
   "metadata": {
    "collapsed": false
   },
   "outputs": [
    {
     "data": {
      "text/plain": [
       "Ttest_indResult(statistic=1.9169482789115786, pvalue=0.064413342069353771)"
      ]
     },
     "execution_count": 7,
     "metadata": {},
     "output_type": "execute_result"
    }
   ],
   "source": [
    "# Perform two sameple t-test for difference in means in other region\n",
    "\n",
    "stats.stats.ttest_ind(editor_y['vgs_Other_Sales'], editor_n['vgs_Other_Sales'], equal_var = False)"
   ]
  },
  {
   "cell_type": "markdown",
   "metadata": {},
   "source": [
    "- T:  The score of game and sales are correlated except in Japan\n",
    "- H0 drawn from T: The higher the IGN score is, the more the game sells\n",
    "- P: Regression으로 스코어와 세일즈의 상관관계를 지역별로 확인"
   ]
  },
  {
   "cell_type": "code",
   "execution_count": 8,
   "metadata": {
    "collapsed": false
   },
   "outputs": [
    {
     "data": {
      "text/plain": [
       "LinregressResult(slope=0.12787425071279965, intercept=7.8304284873647152, rvalue=0.41037670473346521, pvalue=0.011643331220629513, stderr=0.048030959201344238)"
      ]
     },
     "execution_count": 8,
     "metadata": {},
     "output_type": "execute_result"
    }
   ],
   "source": [
    "# Run linear regression to test the correlation between sales and IGN score globally\n",
    "\n",
    "stats.linregress(game_inner['vgs_Global_Sales'],game_inner['ign_score'])\n",
    "\n",
    "#slope=0.12787425071279965, intercept=7.8304284873647152, rvalue=0.41037670473346521, pvalue=0.011643331220629513, stderr=0.048030959201344238)"
   ]
  },
  {
   "cell_type": "code",
   "execution_count": 9,
   "metadata": {
    "collapsed": false
   },
   "outputs": [
    {
     "data": {
      "text/plain": [
       "LinregressResult(slope=0.19076813753839358, intercept=7.963117959135392, rvalue=0.34602483737684953, pvalue=0.035919302262445392, stderr=0.087432260813526105)"
      ]
     },
     "execution_count": 9,
     "metadata": {},
     "output_type": "execute_result"
    }
   ],
   "source": [
    "# Run linear regression to test the correlation between sales and IGN score in North America\n",
    "\n",
    "stats.linregress(game_inner['vgs_NA_Sales'],game_inner['ign_score'])\n",
    "\n",
    "#slope=0.19076813753839358, intercept=7.963117959135392, rvalue=0.34602483737684953, pvalue=0.035919302262445392, stderr=0.087432260813526105)"
   ]
  },
  {
   "cell_type": "code",
   "execution_count": 10,
   "metadata": {
    "collapsed": false
   },
   "outputs": [
    {
     "data": {
      "text/plain": [
       "LinregressResult(slope=0.26588944035586931, intercept=8.0444248372968215, rvalue=0.34876291444809548, pvalue=0.034382072014781717, stderr=0.12077419170962825)"
      ]
     },
     "execution_count": 10,
     "metadata": {},
     "output_type": "execute_result"
    }
   ],
   "source": [
    "# Run linear regression to test the correlation between sales and IGN score in Europe\n",
    "\n",
    "stats.linregress(game_inner['vgs_EU_Sales'],game_inner['ign_score'])\n",
    "\n",
    "#slope=0.26588944035586931, intercept=8.0444248372968215, rvalue=0.34876291444809548, pvalue=0.034382072014781717, stderr=0.12077419170962825)"
   ]
  },
  {
   "cell_type": "code",
   "execution_count": 11,
   "metadata": {
    "collapsed": false
   },
   "outputs": [
    {
     "data": {
      "text/plain": [
       "LinregressResult(slope=0.2272777687761369, intercept=8.3663986669212864, rvalue=0.12296659874271494, pvalue=0.46841347652414722, stderr=0.31004680518844152)"
      ]
     },
     "execution_count": 11,
     "metadata": {},
     "output_type": "execute_result"
    }
   ],
   "source": [
    "# Run linear regression to test the correlation between sales and IGN score in Japan\n",
    "\n",
    "stats.linregress(game_inner['vgs_JP_Sales'],game_inner['ign_score'])\n",
    "\n",
    "#slope=0.2272777687761369, intercept=8.3663986669212864, rvalue=0.12296659874271494, pvalue=0.46841347652414722, stderr=0.31004680518844152)"
   ]
  },
  {
   "cell_type": "code",
   "execution_count": 12,
   "metadata": {
    "collapsed": false
   },
   "outputs": [
    {
     "data": {
      "text/plain": [
       "LinregressResult(slope=0.64228928368621796, intercept=8.1853100423373011, rvalue=0.32594767698832483, pvalue=0.048981827911199607, stderr=0.314889922455519)"
      ]
     },
     "execution_count": 12,
     "metadata": {},
     "output_type": "execute_result"
    }
   ],
   "source": [
    "# Run linear regression to test the correlation between sales and IGN score in other region\n",
    "\n",
    "stats.linregress(game_inner['vgs_Other_Sales'],game_inner['ign_score'])\n",
    "\n",
    "#slope=0.64228928368621796, intercept=8.1853100423373011, rvalue=0.32594767698832483, pvalue=0.048981827911199607, stderr=0.314889922455519)"
   ]
  },
  {
   "cell_type": "markdown",
   "metadata": {},
   "source": [
    "- T: Interestingly, however, such correlation is not valid when combining editor’s choice with score \n",
    "- H0 drawn from T: The higher the IGN score is, the game sells more no matter whether to be chose by editor or not \n",
    "- P: Regression으로 에디터 선택 여부와 스코어를 묶어서 상관관계 확인 (예: 에디터 초이스 되었을 때 일본에서 세일즈와 스코어 상관관계)"
   ]
  },
  {
   "cell_type": "code",
   "execution_count": 13,
   "metadata": {
    "collapsed": false
   },
   "outputs": [
    {
     "data": {
      "text/plain": [
       "LinregressResult(slope=0.027399872789927959, intercept=8.9653897304749268, rvalue=0.28035934321564243, pvalue=0.2063115937659076, stderr=0.020976947820124527)"
      ]
     },
     "execution_count": 13,
     "metadata": {},
     "output_type": "execute_result"
    }
   ],
   "source": [
    "# Run linear regression to test the correlation between sales and IGN score globally - for the games chosen by editors\n",
    "\n",
    "stats.linregress(editor_y['vgs_Global_Sales'],editor_y['ign_score'])\n",
    "\n",
    "#slope=0.027399872789927959, intercept=8.9653897304749268, rvalue=0.28035934321564243, pvalue=0.2063115937659076, stderr=0.020976947820124527)"
   ]
  },
  {
   "cell_type": "code",
   "execution_count": 14,
   "metadata": {
    "collapsed": false
   },
   "outputs": [
    {
     "data": {
      "text/plain": [
       "LinregressResult(slope=0.26990657446030303, intercept=6.5144273008074043, rvalue=0.46561402357911563, pvalue=0.080269090875008914, stderr=0.14228301760781459)"
      ]
     },
     "execution_count": 14,
     "metadata": {},
     "output_type": "execute_result"
    }
   ],
   "source": [
    "# Run linear regression to test the correlation between sales and IGN score globally - for the games not chosen\n",
    "\n",
    "stats.linregress(editor_n['vgs_Global_Sales'],editor_n['ign_score'])\n",
    "\n",
    "#slope=0.26990657446030303, intercept=6.5144273008074043, rvalue=0.46561402357911563, pvalue=0.080269090875008914, stderr=0.14228301760781459)"
   ]
  },
  {
   "cell_type": "code",
   "execution_count": 15,
   "metadata": {
    "collapsed": false
   },
   "outputs": [
    {
     "data": {
      "text/plain": [
       "LinregressResult(slope=0.065769605158787867, intercept=8.9281688225575504, rvalue=0.39385757242145708, pvalue=0.069733543634850431, stderr=0.034321604180239794)"
      ]
     },
     "execution_count": 15,
     "metadata": {},
     "output_type": "execute_result"
    }
   ],
   "source": [
    "# Run linear regression to test the correlation between sales and IGN score in NA - chosen by editors\n",
    "\n",
    "stats.linregress(editor_y['vgs_NA_Sales'],editor_y['ign_score'])\n",
    "\n",
    "#slope=0.065769605158787867, intercept=8.9281688225575504, rvalue=0.39385757242145708, pvalue=0.069733543634850431, stderr=0.034321604180239794 "
   ]
  },
  {
   "cell_type": "code",
   "execution_count": 16,
   "metadata": {
    "collapsed": false
   },
   "outputs": [
    {
     "data": {
      "text/plain": [
       "LinregressResult(slope=0.2266147720786944, intercept=7.0205184186820508, rvalue=0.19388006439573338, pvalue=0.48870779656964614, stderr=0.31802668754286112)"
      ]
     },
     "execution_count": 16,
     "metadata": {},
     "output_type": "execute_result"
    }
   ],
   "source": [
    "# Run linear regression to test the correlation between sales and IGN score in NA - not chosen\n",
    "\n",
    "stats.linregress(editor_n['vgs_NA_Sales'],editor_n['ign_score'])\n",
    "\n",
    "#slope=0.2266147720786944, intercept=7.0205184186820508, rvalue=0.19388006439573338, pvalue=0.48870779656964614, stderr=0.31802668754286112"
   ]
  },
  {
   "cell_type": "code",
   "execution_count": 17,
   "metadata": {
    "collapsed": false
   },
   "outputs": [
    {
     "data": {
      "text/plain": [
       "LinregressResult(slope=0.040989060711719288, intercept=9.0468975104105915, rvalue=0.1705371481180317, pvalue=0.44798213473469184, stderr=0.052957203489716602)"
      ]
     },
     "execution_count": 17,
     "metadata": {},
     "output_type": "execute_result"
    }
   ],
   "source": [
    "# Run linear regression to test the correlation between sales and IGN score in EU - chosen by editors\n",
    "\n",
    "stats.linregress(editor_y['vgs_EU_Sales'],editor_y['ign_score'])\n",
    "\n",
    "#slope=0.040989060711719288, intercept=9.0468975104105915, rvalue=0.1705371481180317, pvalue=0.44798213473469184, stderr=0.052957203489716602"
   ]
  },
  {
   "cell_type": "code",
   "execution_count": 18,
   "metadata": {
    "collapsed": false
   },
   "outputs": [
    {
     "data": {
      "text/plain": [
       "LinregressResult(slope=0.44695259593679454, intercept=6.9966591422121889, rvalue=0.37309267895850384, pvalue=0.1707822846721937, stderr=0.30826531161475318)"
      ]
     },
     "execution_count": 18,
     "metadata": {},
     "output_type": "execute_result"
    }
   ],
   "source": [
    "# Run linear regression to test the correlation between sales and IGN score in EU - not chosen\n",
    "\n",
    "stats.linregress(editor_n['vgs_EU_Sales'],editor_n['ign_score'])\n",
    "\n",
    "#slope=0.44695259593679454, intercept=6.9966591422121889, rvalue=0.37309267895850384, pvalue=0.1707822846721937, stderr=0.30826531161475318"
   ]
  },
  {
   "cell_type": "code",
   "execution_count": 19,
   "metadata": {
    "collapsed": false
   },
   "outputs": [
    {
     "data": {
      "text/plain": [
       "LinregressResult(slope=-0.10991797467954771, intercept=9.1677436796301244, rvalue=-0.19140399242089928, pvalue=0.39349857718558878, stderr=0.12603699768395349)"
      ]
     },
     "execution_count": 19,
     "metadata": {},
     "output_type": "execute_result"
    }
   ],
   "source": [
    "# Run linear regression to test the correlation between sales and IGN score in JP - chosen by editors\n",
    "\n",
    "stats.linregress(editor_y['vgs_JP_Sales'],editor_y['ign_score'])\n",
    "\n",
    "#slope=-0.10991797467954771, intercept=9.1677436796301244, rvalue=-0.19140399242089928, pvalue=0.39349857718558878, stderr=0.12603699768395349"
   ]
  },
  {
   "cell_type": "code",
   "execution_count": 20,
   "metadata": {
    "collapsed": false
   },
   "outputs": [
    {
     "data": {
      "text/plain": [
       "LinregressResult(slope=0.9707057541505526, intercept=7.1765539197880379, rvalue=0.40801317906243639, pvalue=0.13110835200003981, stderr=0.60242240522039769)"
      ]
     },
     "execution_count": 20,
     "metadata": {},
     "output_type": "execute_result"
    }
   ],
   "source": [
    "# Run linear regression to test the correlation between sales and IGN score in JP - not chosen\n",
    "\n",
    "stats.linregress(editor_n['vgs_JP_Sales'],editor_n['ign_score'])\n",
    "\n",
    "#slope=0.9707057541505526, intercept=7.1765539197880379, rvalue=0.40801317906243639, pvalue=0.13110835200003981, stderr=0.60242240522039769"
   ]
  },
  {
   "cell_type": "code",
   "execution_count": 21,
   "metadata": {
    "collapsed": false
   },
   "outputs": [
    {
     "data": {
      "text/plain": [
       "LinregressResult(slope=0.051552729223808547, intercept=9.095568357649821, rvalue=0.08376680627830968, pvalue=0.71092120330602171, stderr=0.13713099899447084)"
      ]
     },
     "execution_count": 21,
     "metadata": {},
     "output_type": "execute_result"
    }
   ],
   "source": [
    "# Run linear regression to test the correlation between sales and IGN score in other region - chosen by editors\n",
    "\n",
    "stats.linregress(editor_y['vgs_Other_Sales'],editor_y['ign_score'])\n",
    "\n",
    "#slope=0.051552729223808547, intercept=9.095568357649821, rvalue=0.08376680627830968, pvalue=0.71092120330602171, stderr=0.13713099899447084"
   ]
  },
  {
   "cell_type": "code",
   "execution_count": 22,
   "metadata": {
    "collapsed": false
   },
   "outputs": [
    {
     "data": {
      "text/plain": [
       "LinregressResult(slope=1.499672242589041, intercept=7.1020782247687482, rvalue=0.48283680624410952, pvalue=0.068293601292621964, stderr=0.75437066455533186)"
      ]
     },
     "execution_count": 22,
     "metadata": {},
     "output_type": "execute_result"
    }
   ],
   "source": [
    "# Run linear regression to test the correlation between sales and IGN score in other region - not chosen\n",
    "\n",
    "stats.linregress(editor_n['vgs_Other_Sales'],editor_n['ign_score'])\n",
    "\n",
    "#slope=1.499672242589041, intercept=7.1020782247687482, rvalue=0.48283680624410952, pvalue=0.068293601292621964, stderr=0.75437066455533186"
   ]
  }
 ],
 "metadata": {
  "anaconda-cloud": {},
  "kernelspec": {
   "display_name": "Python [conda root]",
   "language": "python",
   "name": "conda-root-py"
  },
  "language_info": {
   "codemirror_mode": {
    "name": "ipython",
    "version": 3
   },
   "file_extension": ".py",
   "mimetype": "text/x-python",
   "name": "python",
   "nbconvert_exporter": "python",
   "pygments_lexer": "ipython3",
   "version": "3.5.2"
  }
 },
 "nbformat": 4,
 "nbformat_minor": 1
}
